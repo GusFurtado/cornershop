{
 "cells": [
  {
   "cell_type": "markdown",
   "metadata": {},
   "source": [
    "### Setting up our Cornershop API model"
   ]
  },
  {
   "cell_type": "code",
   "execution_count": 1,
   "metadata": {},
   "outputs": [
    {
     "data": {
      "text/plain": [
       "<cornershop.Cornershop: 80530190/BR>"
      ]
     },
     "execution_count": 1,
     "metadata": {},
     "output_type": "execute_result"
    }
   ],
   "source": [
    "# Import Cornershop API model\n",
    "from cornershop import Cornershop\n",
    "\n",
    "# Instanciate the Cornershop model using a desired zip code as locality\n",
    "cs = Cornershop(\n",
    "    locality = 80530190,\n",
    "    country = 'BR'\n",
    ")\n",
    "\n",
    "cs"
   ]
  },
  {
   "cell_type": "markdown",
   "metadata": {},
   "source": [
    "### Working with `search_branches` method"
   ]
  },
  {
   "cell_type": "code",
   "execution_count": 2,
   "metadata": {},
   "outputs": [
    {
     "data": {
      "text/plain": [
       "[<cornershop.models.Result: \"amaciante\" on Carrefour Hiper>,\n",
       " <cornershop.models.Result: \"amaciante\" on Big>,\n",
       " <cornershop.models.Result: \"amaciante\" on Nacional>,\n",
       " <cornershop.models.Result: \"amaciante\" on Muffato>,\n",
       " <cornershop.models.Result: \"amaciante\" on Assaí>,\n",
       " <cornershop.models.Result: \"amaciante\" on Maxxi>,\n",
       " <cornershop.models.Result: \"amaciante\" on Atacadão>,\n",
       " <cornershop.models.Result: \"amaciante\" on Muffato Gourmet>,\n",
       " <cornershop.models.Result: \"amaciante\" on Max Atacadista>,\n",
       " <cornershop.models.Result: \"amaciante\" on Sam's Club>,\n",
       " <cornershop.models.Result: \"amaciante\" on Casa Fiesta>,\n",
       " <cornershop.models.Result: \"amaciante\" on Fiesta Express>]"
      ]
     },
     "execution_count": 2,
     "metadata": {},
     "output_type": "execute_result"
    }
   ],
   "source": [
    "# Use a search query to find branches near your locality\n",
    "branches = cs.search_branches(\n",
    "    query = 'amaciante'\n",
    ")\n",
    "\n",
    "branches"
   ]
  },
  {
   "cell_type": "code",
   "execution_count": 3,
   "metadata": {},
   "outputs": [
    {
     "data": {
      "text/plain": [
       "<cornershop.models.Store: Carrefour Hiper>"
      ]
     },
     "execution_count": 3,
     "metadata": {},
     "output_type": "execute_result"
    }
   ],
   "source": [
    "# Get a single store by indexing the list and calling the `store` attribute.\n",
    "store = branches[0].store\n",
    "store"
   ]
  },
  {
   "cell_type": "code",
   "execution_count": 4,
   "metadata": {},
   "outputs": [
    {
     "data": {
      "text/plain": [
       "'Carrefour Hiper'"
      ]
     },
     "execution_count": 4,
     "metadata": {},
     "output_type": "execute_result"
    }
   ],
   "source": [
    "# You can check any info about this branch by calling the respective attribute.\n",
    "store.name\n",
    "\n",
    "# TIP: The `__dict__` attribute shows all available attributes of the store.\n",
    "# >>> store.__dict__"
   ]
  },
  {
   "cell_type": "code",
   "execution_count": 5,
   "metadata": {},
   "outputs": [
    {
     "data": {
      "text/plain": [
       "[<cornershop.models.Aisle: C_1582 - Amaciantes>]"
      ]
     },
     "execution_count": 5,
     "metadata": {},
     "output_type": "execute_result"
    }
   ],
   "source": [
    "# The second attribute of the branch is the `search_result`, which contains a list of `Aisle` models.\n",
    "aisles = branches[0].search_result.aisles\n",
    "aisles"
   ]
  },
  {
   "cell_type": "code",
   "execution_count": 6,
   "metadata": {},
   "outputs": [
    {
     "data": {
      "text/plain": [
       "[<cornershop.models.Product: 1191770 - Amaciante de roupa concentrado brisa de verão>,\n",
       " <cornershop.models.Product: 1191787 - Amaciante de roupa concentrado intense>,\n",
       " <cornershop.models.Product: 1191812 - Amaciante de roupas intenso>,\n",
       " <cornershop.models.Product: 1472463 - Amaciante de roupa mon biju pureza>,\n",
       " <cornershop.models.Product: 2837746 - Amaciante de roupa aconchego>]"
      ]
     },
     "execution_count": 6,
     "metadata": {},
     "output_type": "execute_result"
    }
   ],
   "source": [
    "# Amoung other attributes, an `Aisle` model has a `products` attribute.\n",
    "# This attribute is a list of `Produt` models related to the search query.\n",
    "products = aisles[0].products\n",
    "products[:5]"
   ]
  },
  {
   "cell_type": "code",
   "execution_count": 7,
   "metadata": {},
   "outputs": [
    {
     "data": {
      "text/plain": [
       "{'id': 1191770,\n",
       " 'brand': {'id': 659, 'name': 'Downy'},\n",
       " 'kind': 'PRODUCT',\n",
       " 'related_to': None,\n",
       " 'buy_unit': 'UN',\n",
       " 'default_buy_unit': 'UN',\n",
       " 'variable_weight': None,\n",
       " 'currency': 'BRL',\n",
       " 'unit_conversion_rate': None,\n",
       " 'purchasable': True,\n",
       " 'pricing': {'original_price': None,\n",
       "  'price': {'label': 'Preço', 'amount': 25.49, 'currency': 'BRL'},\n",
       "  'price_per_unit': None},\n",
       " 'price_per_unit': '',\n",
       " 'regulatory_fees': [],\n",
       " 'price': 25.49,\n",
       " 'original_price': None,\n",
       " 'label': None,\n",
       " 'description_sections': [],\n",
       " 'availability_status': 'AVAILABLE',\n",
       " 'nutritional_info': None,\n",
       " 'name': 'Amaciante de roupa concentrado brisa de verão',\n",
       " 'description': 'Amaciante concentrado que deixa as suas roupas perfumadas por mais tempo*! Downy Brisa resultadas da combinação de flores brancas e cítricas e do frescor do herbal e âmbar. A fórmula de Downy possui microcápsulas de perfume especiais que se ativam com o toque, liberando perfume ao longo de todo o dia. Além disso, protege de odores desagradáveis como fumaça, fritura e suor, os impedindo de impregnar nas roupas**. Desta forma você se veste de perfume o dia todo. Por ser concentrado, 1.5L de Downy é equivalente a 6L de um amaciante diluído comum. Isso significa que ele rende até 66 lavagens. Para garantir um melhor uso, utilize apenas a quantidade de amaciante indicada na embalagem do produto. *Concentração de perfume depositada e liberada do tecido seco medida por métodos analíticos vs. amaciantes não concentrados **Baseado em provas realizadas com conjunto de odores representativos \\r\\n \\r\\n • Roupas perfumadas por mais tempo*\\r\\n \\r\\n • Protege de mau odores**\\r\\n \\r\\n • Perfume duradouro\\r\\n \\r\\n • Maciez incrível\\r\\n \\r\\n • Facilita o passar de roupas\\r\\n \\r\\n • É concentrado, 1/3 de tampa basta\\r\\n \\r\\n • Proteção dos tecidos e redução dos danos causados pela lavagem\\r\\n \\r\\n • Vista-se de perfume o dia todo',\n",
       " 'package': '1,5L',\n",
       " 'img_url': 'https://s.cornershopapp.com/product-images/1191770.jpg?versionId=2.ZgxKwn9gbRHrkKRxB1PhXo65UGUykU',\n",
       " 'extra_img_urls': []}"
      ]
     },
     "execution_count": 7,
     "metadata": {},
     "output_type": "execute_result"
    }
   ],
   "source": [
    "# The `Product` model can tell you everything you need to know about that product.\n",
    "products[0].__dict__"
   ]
  },
  {
   "cell_type": "markdown",
   "metadata": {},
   "source": [
    "### Working with `search_branch_groups` method"
   ]
  },
  {
   "cell_type": "code",
   "execution_count": 8,
   "metadata": {},
   "outputs": [],
   "source": [
    "# Search branch group near your locality\n",
    "groups = cs.search_branch_groups()"
   ]
  },
  {
   "cell_type": "code",
   "execution_count": 9,
   "metadata": {},
   "outputs": [
    {
     "data": {
      "text/plain": [
       "dict_keys(['id', 'name', 'items', 'style', 'category_type', 'category_name', 'priority'])"
      ]
     },
     "execution_count": 9,
     "metadata": {},
     "output_type": "execute_result"
    }
   ],
   "source": [
    "groups[0].keys()"
   ]
  },
  {
   "cell_type": "code",
   "execution_count": 10,
   "metadata": {},
   "outputs": [
    {
     "data": {
      "text/plain": [
       "{'type': 'branch',\n",
       " 'badges': [],\n",
       " 'content': {'brand_color': '0072ce',\n",
       "  'excerpt': 'Bom. Big. Barato',\n",
       "  'id': '8027',\n",
       "  'img_url': 'https://s.cornershopapp.com/store-logo/big-br-light.png?versionId=xo6Ewy9wK_v0VAk927HeEqQ3tk2KwmOk',\n",
       "  'name': 'Big',\n",
       "  'poster': {'imageset': {'1x': 'https://s.cornershopapp.com/store-poster/1481-big-1x.jpeg?versionId=lZPBxKQjtQGYBuFr6iujc5euO7_yJ9.5',\n",
       "    '2x': 'https://s.cornershopapp.com/store-poster/1481-big-2x.jpeg?versionId=ZfCU2O_8X3FGWhJpxeE_fQi5Y842b05r',\n",
       "    '3x': 'https://s.cornershopapp.com/store-poster/1481-big-3x.jpeg?versionId=cfdvWwAkftXR.Ggmo_5GUYeSvN3xXPeM'}},\n",
       "  'pricing_notes': {'title': '3% taxa de serviço',\n",
       "   'description': 'Os preços dos produtos são publicados pela loja Big. A Cornershop cobra uma taxa de serviço que você poderá ver antes de efetuar o pagamento em \"Taxa de serviço\".',\n",
       "   'disclaimer': 'Os preços dos produtos são publicados pela loja Big. A Cornershop cobra uma taxa de serviço que você poderá ver antes de efetuar o pagamento em \"Taxa de serviço\".'},\n",
       "  'store_id': '1481'}}"
      ]
     },
     "execution_count": 10,
     "metadata": {},
     "output_type": "execute_result"
    }
   ],
   "source": [
    "groups[0]['items'][0]"
   ]
  },
  {
   "cell_type": "markdown",
   "metadata": {},
   "source": [
    "### Working with `search_branch` method"
   ]
  },
  {
   "cell_type": "code",
   "execution_count": 11,
   "metadata": {},
   "outputs": [],
   "source": [
    "# Use a seach query on a specific branch\n",
    "branch = cs.search_branch(\n",
    "    branch_id = 8027,\n",
    "    query = 'amaciante'\n",
    ")"
   ]
  },
  {
   "cell_type": "code",
   "execution_count": 12,
   "metadata": {},
   "outputs": [
    {
     "data": {
      "text/plain": [
       "[<cornershop.models.Aisle: promotions - Produtos em promoção>,\n",
       " <cornershop.models.Aisle: C_1582 - Amaciantes>,\n",
       " <cornershop.models.Aisle: C_984 - Lavanderia>,\n",
       " <cornershop.models.Aisle: C_81 - Temperos para preparação carne>]"
      ]
     },
     "execution_count": 12,
     "metadata": {},
     "output_type": "execute_result"
    }
   ],
   "source": [
    "# Just like the branches in the `search_branches` method, this `Branch` model\n",
    "# also contains a `aisle` attribute containing a list of `Aisle` models.\n",
    "branch.aisles"
   ]
  },
  {
   "cell_type": "markdown",
   "metadata": {},
   "source": [
    "### Working with `search_countries` method"
   ]
  },
  {
   "cell_type": "code",
   "execution_count": 13,
   "metadata": {},
   "outputs": [
    {
     "data": {
      "text/plain": [
       "[<cornershop.models.Country: Brasil>,\n",
       " <cornershop.models.Country: Canada>,\n",
       " <cornershop.models.Country: Chile>,\n",
       " <cornershop.models.Country: Colombia>,\n",
       " <cornershop.models.Country: Costa Rica>,\n",
       " <cornershop.models.Country: México>,\n",
       " <cornershop.models.Country: Perú>,\n",
       " <cornershop.models.Country: United States>]"
      ]
     },
     "execution_count": 13,
     "metadata": {},
     "output_type": "execute_result"
    }
   ],
   "source": [
    "# Use the `search_countries` methods to obtain a list of countries\n",
    "countries = cs.search_countries()\n",
    "\n",
    "countries"
   ]
  },
  {
   "cell_type": "code",
   "execution_count": 14,
   "metadata": {},
   "outputs": [
    {
     "data": {
      "text/plain": [
       "{'country': 'BR',\n",
       " 'name': 'Brasil',\n",
       " 'locality_fields': ['zip_code'],\n",
       " 'fields': {'zip_code': {'required': True,\n",
       "   'free_text': True,\n",
       "   'label': 'Código postal',\n",
       "   'default_value': ''}},\n",
       " 'cities': [{'name': 'São Paulo'},\n",
       "  {'name': 'Belo Horizonte'},\n",
       "  {'name': 'Brasília'},\n",
       "  {'name': 'Curitiba'},\n",
       "  {'name': 'Fortaleza'},\n",
       "  {'name': 'Goiânia'},\n",
       "  {'name': 'Manaus'},\n",
       "  {'name': 'Porto Alegre'},\n",
       "  {'name': 'Recife'},\n",
       "  {'name': 'Rio de Janeiro'},\n",
       "  {'name': 'Salvador'},\n",
       "  {'name': 'Other'}]}"
      ]
     },
     "execution_count": 14,
     "metadata": {},
     "output_type": "execute_result"
    }
   ],
   "source": [
    "# Each item in the list is a `Country` model containing some attributes\n",
    "countries[0].__dict__"
   ]
  }
 ],
 "metadata": {
  "interpreter": {
   "hash": "b3ba2566441a7c06988d0923437866b63cedc61552a5af99d1f4fb67d367b25f"
  },
  "kernelspec": {
   "display_name": "Python 3.7.7 64-bit ('base': conda)",
   "language": "python",
   "name": "python3"
  },
  "language_info": {
   "codemirror_mode": {
    "name": "ipython",
    "version": 3
   },
   "file_extension": ".py",
   "mimetype": "text/x-python",
   "name": "python",
   "nbconvert_exporter": "python",
   "pygments_lexer": "ipython3",
   "version": "3.7.7"
  },
  "orig_nbformat": 4
 },
 "nbformat": 4,
 "nbformat_minor": 2
}
