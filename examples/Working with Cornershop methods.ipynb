{
 "cells": [
  {
   "cell_type": "markdown",
   "metadata": {},
   "source": [
    "### Setting up our Cornershop API model"
   ]
  },
  {
   "cell_type": "code",
   "execution_count": null,
   "metadata": {},
   "outputs": [],
   "source": [
    "# Import Cornershop API model\n",
    "from cornershop import Cornershop\n",
    "\n",
    "# Instanciate the Cornershop model using a desired zip code as locality\n",
    "cs = Cornershop(\n",
    "    locality = 80530190,\n",
    "    country = 'BR'\n",
    ")"
   ]
  },
  {
   "cell_type": "markdown",
   "metadata": {},
   "source": [
    "### Working with `search_branches` method"
   ]
  },
  {
   "cell_type": "code",
   "execution_count": 2,
   "metadata": {},
   "outputs": [
    {
     "data": {
      "text/plain": [
       "[<cornershop.models.Result: \"amaciante\" on Carrefour Hiper>,\n",
       " <cornershop.models.Result: \"amaciante\" on Big>,\n",
       " <cornershop.models.Result: \"amaciante\" on Nacional>,\n",
       " <cornershop.models.Result: \"amaciante\" on Muffato>,\n",
       " <cornershop.models.Result: \"amaciante\" on Assaí>,\n",
       " <cornershop.models.Result: \"amaciante\" on Maxxi>,\n",
       " <cornershop.models.Result: \"amaciante\" on Atacadão>,\n",
       " <cornershop.models.Result: \"amaciante\" on Muffato Gourmet>,\n",
       " <cornershop.models.Result: \"amaciante\" on Max Atacadista>,\n",
       " <cornershop.models.Result: \"amaciante\" on Sam's Club>,\n",
       " <cornershop.models.Result: \"amaciante\" on Casa Fiesta>,\n",
       " <cornershop.models.Result: \"amaciante\" on Fiesta Express>]"
      ]
     },
     "execution_count": 2,
     "metadata": {},
     "output_type": "execute_result"
    }
   ],
   "source": [
    "# Use a search query to find branches near your locality\n",
    "branches = cs.search_branches(query='amaciante')\n",
    "branches"
   ]
  },
  {
   "cell_type": "code",
   "execution_count": 3,
   "metadata": {},
   "outputs": [
    {
     "data": {
      "text/plain": [
       "<cornershop.models.Store: Carrefour Hiper>"
      ]
     },
     "execution_count": 3,
     "metadata": {},
     "output_type": "execute_result"
    }
   ],
   "source": [
    "# Get a single store by indexing the list and calling the `store` attribute.\n",
    "store = branches[0].store\n",
    "store"
   ]
  },
  {
   "cell_type": "code",
   "execution_count": 4,
   "metadata": {},
   "outputs": [
    {
     "data": {
      "text/plain": [
       "[<cornershop.models.Aisle: C_1582 - Amaciantes>]"
      ]
     },
     "execution_count": 4,
     "metadata": {},
     "output_type": "execute_result"
    }
   ],
   "source": [
    "# The second attribute of the branch is the `search_result`, which contains a list of `Aisle` models.\n",
    "aisles = branches[0].search_result.aisles\n",
    "aisles"
   ]
  },
  {
   "cell_type": "code",
   "execution_count": 5,
   "metadata": {},
   "outputs": [
    {
     "data": {
      "text/plain": [
       "[<cornershop.models.Product: 1191770 - Amaciante de roupa concentrado brisa de verão>,\n",
       " <cornershop.models.Product: 1191812 - Amaciante de roupas intenso>,\n",
       " <cornershop.models.Product: 1191787 - Amaciante de roupa concentrado intense>,\n",
       " <cornershop.models.Product: 1472463 - Amaciante de roupa mon biju pureza>,\n",
       " <cornershop.models.Product: 1191775 - Amaciante de roupas concentrado brisa de verão>]"
      ]
     },
     "execution_count": 5,
     "metadata": {},
     "output_type": "execute_result"
    }
   ],
   "source": [
    "# Amoung other attributes, an `Aisle` model has a `products` attribute.\n",
    "# This attribute is a list of `Produt` models related to the search query.\n",
    "products = aisles[0].products\n",
    "products[:5]"
   ]
  },
  {
   "cell_type": "markdown",
   "metadata": {},
   "source": [
    "### Working with `search_branch_groups` method"
   ]
  },
  {
   "cell_type": "code",
   "execution_count": 6,
   "metadata": {},
   "outputs": [
    {
     "data": {
      "text/plain": [
       "[<cornershop.model.Group: Destacados>,\n",
       " <cornershop.model.Group: Atacadistas>,\n",
       " <cornershop.model.Group: Entregas rápidas>,\n",
       " <cornershop.model.Group: Destacados>,\n",
       " <cornershop.model.Group: Farmácia>,\n",
       " <cornershop.model.Group: Animais de estimação>,\n",
       " <cornershop.model.Group: Vinhos e bebidas>,\n",
       " <cornershop.model.Group: Vida saudável>,\n",
       " <cornershop.model.Group: Beleza e cuidados pessoais>,\n",
       " <cornershop.model.Group: Gourmet>,\n",
       " <cornershop.model.Group: Supermercados>,\n",
       " <cornershop.model.Group: Outras lojas>]"
      ]
     },
     "execution_count": 6,
     "metadata": {},
     "output_type": "execute_result"
    }
   ],
   "source": [
    "# Search branch group near your locality\n",
    "groups = cs.search_branch_groups()\n",
    "groups"
   ]
  },
  {
   "cell_type": "code",
   "execution_count": 7,
   "metadata": {},
   "outputs": [
    {
     "data": {
      "text/plain": [
       "[<cornershop.model.GroupItem: Atacadão>,\n",
       " <cornershop.model.GroupItem: Assaí>,\n",
       " <cornershop.model.GroupItem: Maxxi>,\n",
       " <cornershop.model.GroupItem: Max Atacadista>]"
      ]
     },
     "execution_count": 7,
     "metadata": {},
     "output_type": "execute_result"
    }
   ],
   "source": [
    "# Use the `items` attribute to see the stores contained in a group\n",
    "item = groups[1].items\n",
    "item"
   ]
  },
  {
   "cell_type": "markdown",
   "metadata": {},
   "source": [
    "### Working with `search_branch` method"
   ]
  },
  {
   "cell_type": "code",
   "execution_count": 11,
   "metadata": {},
   "outputs": [
    {
     "data": {
      "text/plain": [
       "<cornershop.models.Branch>"
      ]
     },
     "execution_count": 11,
     "metadata": {},
     "output_type": "execute_result"
    }
   ],
   "source": [
    "# Use a seach query on a specific branch\n",
    "branch = cs.search_branch(\n",
    "    branch_id = 8027,\n",
    "    query = 'amaciante'\n",
    ")\n",
    "branch"
   ]
  },
  {
   "cell_type": "code",
   "execution_count": 9,
   "metadata": {},
   "outputs": [
    {
     "data": {
      "text/plain": [
       "[<cornershop.models.Aisle: promotions - Produtos em promoção>,\n",
       " <cornershop.models.Aisle: C_1582 - Amaciantes>,\n",
       " <cornershop.models.Aisle: C_81 - Temperos para preparação carne>,\n",
       " <cornershop.models.Aisle: C_984 - Lavanderia>]"
      ]
     },
     "execution_count": 9,
     "metadata": {},
     "output_type": "execute_result"
    }
   ],
   "source": [
    "# Just like the branches in the `search_branches` method, this `Branch` model\n",
    "# also contains a `aisle` attribute containing a list of `Aisle` models.\n",
    "branch.aisles"
   ]
  },
  {
   "cell_type": "markdown",
   "metadata": {},
   "source": [
    "### Working with `search_countries` method"
   ]
  },
  {
   "cell_type": "code",
   "execution_count": 10,
   "metadata": {},
   "outputs": [
    {
     "data": {
      "text/plain": [
       "[<cornershop.models.Country: Brasil>,\n",
       " <cornershop.models.Country: Canada>,\n",
       " <cornershop.models.Country: Chile>,\n",
       " <cornershop.models.Country: Colombia>,\n",
       " <cornershop.models.Country: Costa Rica>,\n",
       " <cornershop.models.Country: México>,\n",
       " <cornershop.models.Country: Perú>,\n",
       " <cornershop.models.Country: United States>]"
      ]
     },
     "execution_count": 10,
     "metadata": {},
     "output_type": "execute_result"
    }
   ],
   "source": [
    "# Use the `search_countries` methods to obtain a list of countries\n",
    "countries = cs.search_countries()\n",
    "countries"
   ]
  }
 ],
 "metadata": {
  "interpreter": {
   "hash": "b3ba2566441a7c06988d0923437866b63cedc61552a5af99d1f4fb67d367b25f"
  },
  "kernelspec": {
   "display_name": "Python 3.7.7 64-bit ('base': conda)",
   "language": "python",
   "name": "python3"
  },
  "language_info": {
   "codemirror_mode": {
    "name": "ipython",
    "version": 3
   },
   "file_extension": ".py",
   "mimetype": "text/x-python",
   "name": "python",
   "nbconvert_exporter": "python",
   "pygments_lexer": "ipython3",
   "version": "3.7.7"
  },
  "orig_nbformat": 4
 },
 "nbformat": 4,
 "nbformat_minor": 2
}
